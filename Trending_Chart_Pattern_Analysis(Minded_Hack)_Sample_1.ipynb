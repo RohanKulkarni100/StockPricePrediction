{
  "nbformat": 4,
  "nbformat_minor": 0,
  "metadata": {
    "colab": {
      "provenance": [],
      "include_colab_link": true
    },
    "kernelspec": {
      "name": "python3",
      "display_name": "Python 3"
    },
    "language_info": {
      "name": "python"
    }
  },
  "cells": [
    {
      "cell_type": "markdown",
      "metadata": {
        "id": "view-in-github",
        "colab_type": "text"
      },
      "source": [
        "<a href=\"https://colab.research.google.com/github/RohanKulkarni100/StockPricePrediction/blob/main/Trending_Chart_Pattern_Analysis(Minded_Hack)_Sample_1.ipynb\" target=\"_parent\"><img src=\"https://colab.research.google.com/assets/colab-badge.svg\" alt=\"Open In Colab\"/></a>"
      ]
    },
    {
      "cell_type": "code",
      "execution_count": null,
      "metadata": {
        "id": "5bYB_MKXwOPb",
        "colab": {
          "base_uri": "https://localhost:8080/"
        },
        "outputId": "1a2ab661-370c-4974-bf57-7f28de7c075e"
      },
      "outputs": [
        {
          "output_type": "stream",
          "name": "stderr",
          "text": [
            "<ipython-input-31-1e4a0b7ca604>:9: FutureWarning: The pandas.datetime class is deprecated and will be removed from pandas in a future version. Import from datetime module instead.\n",
            "  from pandas import datetime\n"
          ]
        }
      ],
      "source": [
        "import numpy as np # linear algebra\n",
        "import pandas as pd # data processing, CSV file I/O (e.g. pd.read_csv)\n",
        "import os\n",
        "from subprocess import check_output\n",
        "import seaborn as sns\n",
        "import matplotlib.pyplot as plt\n",
        "import warnings\n",
        "from pandas.plotting import lag_plot\n",
        "from pandas import datetime\n",
        "from statsmodels.tsa.arima_model import ARIMA\n",
        "from sklearn.metrics import mean_squared_error"
      ]
    },
    {
      "cell_type": "code",
      "source": [
        "df1 = pd.read_csv(\"/content/drive/MyDrive/ChartPatterns/SampleDataGT.csv\")\n",
        "df1.head()"
      ],
      "metadata": {
        "colab": {
          "base_uri": "https://localhost:8080/",
          "height": 206
        },
        "id": "NuXgu7upx1FV",
        "outputId": "7562f0e4-691c-47dc-d741-455bf3ff58a2"
      },
      "execution_count": null,
      "outputs": [
        {
          "output_type": "execute_result",
          "data": {
            "text/plain": [
              "   Unnamed: 0                start                  end  \\\n",
              "0           0  2020-01-08 10:50:00  2020-01-08 13:00:00   \n",
              "1           1  2020-01-09 10:40:00  2020-01-09 12:45:00   \n",
              "2           2  2020-01-15 12:45:00  2020-01-15 14:50:00   \n",
              "3           3  2020-01-16 11:00:00  2020-01-16 13:10:00   \n",
              "4           4  2020-01-20 12:05:00  2020-01-20 13:55:00   \n",
              "\n",
              "                      pattern  \n",
              "0  Reverse Head and shoulders  \n",
              "1          Head and shoulders  \n",
              "2          Head and shoulders  \n",
              "3  Reverse Head and shoulders  \n",
              "4          Head and shoulders  "
            ],
            "text/html": [
              "\n",
              "  <div id=\"df-c5178db9-afd4-4b73-9273-21f4d2003f25\">\n",
              "    <div class=\"colab-df-container\">\n",
              "      <div>\n",
              "<style scoped>\n",
              "    .dataframe tbody tr th:only-of-type {\n",
              "        vertical-align: middle;\n",
              "    }\n",
              "\n",
              "    .dataframe tbody tr th {\n",
              "        vertical-align: top;\n",
              "    }\n",
              "\n",
              "    .dataframe thead th {\n",
              "        text-align: right;\n",
              "    }\n",
              "</style>\n",
              "<table border=\"1\" class=\"dataframe\">\n",
              "  <thead>\n",
              "    <tr style=\"text-align: right;\">\n",
              "      <th></th>\n",
              "      <th>Unnamed: 0</th>\n",
              "      <th>start</th>\n",
              "      <th>end</th>\n",
              "      <th>pattern</th>\n",
              "    </tr>\n",
              "  </thead>\n",
              "  <tbody>\n",
              "    <tr>\n",
              "      <th>0</th>\n",
              "      <td>0</td>\n",
              "      <td>2020-01-08 10:50:00</td>\n",
              "      <td>2020-01-08 13:00:00</td>\n",
              "      <td>Reverse Head and shoulders</td>\n",
              "    </tr>\n",
              "    <tr>\n",
              "      <th>1</th>\n",
              "      <td>1</td>\n",
              "      <td>2020-01-09 10:40:00</td>\n",
              "      <td>2020-01-09 12:45:00</td>\n",
              "      <td>Head and shoulders</td>\n",
              "    </tr>\n",
              "    <tr>\n",
              "      <th>2</th>\n",
              "      <td>2</td>\n",
              "      <td>2020-01-15 12:45:00</td>\n",
              "      <td>2020-01-15 14:50:00</td>\n",
              "      <td>Head and shoulders</td>\n",
              "    </tr>\n",
              "    <tr>\n",
              "      <th>3</th>\n",
              "      <td>3</td>\n",
              "      <td>2020-01-16 11:00:00</td>\n",
              "      <td>2020-01-16 13:10:00</td>\n",
              "      <td>Reverse Head and shoulders</td>\n",
              "    </tr>\n",
              "    <tr>\n",
              "      <th>4</th>\n",
              "      <td>4</td>\n",
              "      <td>2020-01-20 12:05:00</td>\n",
              "      <td>2020-01-20 13:55:00</td>\n",
              "      <td>Head and shoulders</td>\n",
              "    </tr>\n",
              "  </tbody>\n",
              "</table>\n",
              "</div>\n",
              "      <button class=\"colab-df-convert\" onclick=\"convertToInteractive('df-c5178db9-afd4-4b73-9273-21f4d2003f25')\"\n",
              "              title=\"Convert this dataframe to an interactive table.\"\n",
              "              style=\"display:none;\">\n",
              "        \n",
              "  <svg xmlns=\"http://www.w3.org/2000/svg\" height=\"24px\"viewBox=\"0 0 24 24\"\n",
              "       width=\"24px\">\n",
              "    <path d=\"M0 0h24v24H0V0z\" fill=\"none\"/>\n",
              "    <path d=\"M18.56 5.44l.94 2.06.94-2.06 2.06-.94-2.06-.94-.94-2.06-.94 2.06-2.06.94zm-11 1L8.5 8.5l.94-2.06 2.06-.94-2.06-.94L8.5 2.5l-.94 2.06-2.06.94zm10 10l.94 2.06.94-2.06 2.06-.94-2.06-.94-.94-2.06-.94 2.06-2.06.94z\"/><path d=\"M17.41 7.96l-1.37-1.37c-.4-.4-.92-.59-1.43-.59-.52 0-1.04.2-1.43.59L10.3 9.45l-7.72 7.72c-.78.78-.78 2.05 0 2.83L4 21.41c.39.39.9.59 1.41.59.51 0 1.02-.2 1.41-.59l7.78-7.78 2.81-2.81c.8-.78.8-2.07 0-2.86zM5.41 20L4 18.59l7.72-7.72 1.47 1.35L5.41 20z\"/>\n",
              "  </svg>\n",
              "      </button>\n",
              "      \n",
              "  <style>\n",
              "    .colab-df-container {\n",
              "      display:flex;\n",
              "      flex-wrap:wrap;\n",
              "      gap: 12px;\n",
              "    }\n",
              "\n",
              "    .colab-df-convert {\n",
              "      background-color: #E8F0FE;\n",
              "      border: none;\n",
              "      border-radius: 50%;\n",
              "      cursor: pointer;\n",
              "      display: none;\n",
              "      fill: #1967D2;\n",
              "      height: 32px;\n",
              "      padding: 0 0 0 0;\n",
              "      width: 32px;\n",
              "    }\n",
              "\n",
              "    .colab-df-convert:hover {\n",
              "      background-color: #E2EBFA;\n",
              "      box-shadow: 0px 1px 2px rgba(60, 64, 67, 0.3), 0px 1px 3px 1px rgba(60, 64, 67, 0.15);\n",
              "      fill: #174EA6;\n",
              "    }\n",
              "\n",
              "    [theme=dark] .colab-df-convert {\n",
              "      background-color: #3B4455;\n",
              "      fill: #D2E3FC;\n",
              "    }\n",
              "\n",
              "    [theme=dark] .colab-df-convert:hover {\n",
              "      background-color: #434B5C;\n",
              "      box-shadow: 0px 1px 3px 1px rgba(0, 0, 0, 0.15);\n",
              "      filter: drop-shadow(0px 1px 2px rgba(0, 0, 0, 0.3));\n",
              "      fill: #FFFFFF;\n",
              "    }\n",
              "  </style>\n",
              "\n",
              "      <script>\n",
              "        const buttonEl =\n",
              "          document.querySelector('#df-c5178db9-afd4-4b73-9273-21f4d2003f25 button.colab-df-convert');\n",
              "        buttonEl.style.display =\n",
              "          google.colab.kernel.accessAllowed ? 'block' : 'none';\n",
              "\n",
              "        async function convertToInteractive(key) {\n",
              "          const element = document.querySelector('#df-c5178db9-afd4-4b73-9273-21f4d2003f25');\n",
              "          const dataTable =\n",
              "            await google.colab.kernel.invokeFunction('convertToInteractive',\n",
              "                                                     [key], {});\n",
              "          if (!dataTable) return;\n",
              "\n",
              "          const docLinkHtml = 'Like what you see? Visit the ' +\n",
              "            '<a target=\"_blank\" href=https://colab.research.google.com/notebooks/data_table.ipynb>data table notebook</a>'\n",
              "            + ' to learn more about interactive tables.';\n",
              "          element.innerHTML = '';\n",
              "          dataTable['output_type'] = 'display_data';\n",
              "          await google.colab.output.renderOutput(dataTable, element);\n",
              "          const docLink = document.createElement('div');\n",
              "          docLink.innerHTML = docLinkHtml;\n",
              "          element.appendChild(docLink);\n",
              "        }\n",
              "      </script>\n",
              "    </div>\n",
              "  </div>\n",
              "  "
            ]
          },
          "metadata": {},
          "execution_count": 32
        }
      ]
    },
    {
      "cell_type": "code",
      "source": [
        "df1.columns"
      ],
      "metadata": {
        "colab": {
          "base_uri": "https://localhost:8080/"
        },
        "id": "khYbpMzayHc8",
        "outputId": "8e68b4fc-3b65-4a1e-8b3a-c8e9a6d1a256"
      },
      "execution_count": null,
      "outputs": [
        {
          "output_type": "execute_result",
          "data": {
            "text/plain": [
              "Index(['Unnamed: 0', 'start', 'end', 'pattern'], dtype='object')"
            ]
          },
          "metadata": {},
          "execution_count": 33
        }
      ]
    },
    {
      "cell_type": "code",
      "source": [
        "df1['pattern'].unique()"
      ],
      "metadata": {
        "colab": {
          "base_uri": "https://localhost:8080/"
        },
        "id": "rmkjHUbHzIV3",
        "outputId": "addc1fed-c3a5-4a82-ec7a-e7a947b82ebb"
      },
      "execution_count": null,
      "outputs": [
        {
          "output_type": "execute_result",
          "data": {
            "text/plain": [
              "array(['Reverse Head and shoulders', 'Head and shoulders', 'Double Top',\n",
              "       'Double Bottom'], dtype=object)"
            ]
          },
          "metadata": {},
          "execution_count": 34
        }
      ]
    },
    {
      "cell_type": "code",
      "source": [
        "df2 = pd.read_csv(\"/content/drive/MyDrive/ChartPatterns/SampleData.csv\")\n",
        "df2.head()"
      ],
      "metadata": {
        "colab": {
          "base_uri": "https://localhost:8080/",
          "height": 206
        },
        "id": "mm9vC57ezT8r",
        "outputId": "b055060e-8131-436c-aa28-55b4eeaef445"
      },
      "execution_count": null,
      "outputs": [
        {
          "output_type": "execute_result",
          "data": {
            "text/plain": [
              "   Unnamed: 0         open        close         high          low  \\\n",
              "0           0  1032.144200  1032.246108  1038.520819  1025.869489   \n",
              "1           1  1032.246108  1032.417499  1040.101487  1024.562120   \n",
              "2           2  1032.417499  1032.375497  1040.023616  1024.769380   \n",
              "3           3  1032.375497  1032.398605  1033.532570  1031.241532   \n",
              "4           4  1032.398605  1032.482789  1037.506628  1027.374766   \n",
              "\n",
              "                  date  \n",
              "0  2020-01-02 09:00:00  \n",
              "1  2020-01-02 09:05:00  \n",
              "2  2020-01-02 09:10:00  \n",
              "3  2020-01-02 09:15:00  \n",
              "4  2020-01-02 09:20:00  "
            ],
            "text/html": [
              "\n",
              "  <div id=\"df-13e78460-7163-4054-8425-f507191b4a42\">\n",
              "    <div class=\"colab-df-container\">\n",
              "      <div>\n",
              "<style scoped>\n",
              "    .dataframe tbody tr th:only-of-type {\n",
              "        vertical-align: middle;\n",
              "    }\n",
              "\n",
              "    .dataframe tbody tr th {\n",
              "        vertical-align: top;\n",
              "    }\n",
              "\n",
              "    .dataframe thead th {\n",
              "        text-align: right;\n",
              "    }\n",
              "</style>\n",
              "<table border=\"1\" class=\"dataframe\">\n",
              "  <thead>\n",
              "    <tr style=\"text-align: right;\">\n",
              "      <th></th>\n",
              "      <th>Unnamed: 0</th>\n",
              "      <th>open</th>\n",
              "      <th>close</th>\n",
              "      <th>high</th>\n",
              "      <th>low</th>\n",
              "      <th>date</th>\n",
              "    </tr>\n",
              "  </thead>\n",
              "  <tbody>\n",
              "    <tr>\n",
              "      <th>0</th>\n",
              "      <td>0</td>\n",
              "      <td>1032.144200</td>\n",
              "      <td>1032.246108</td>\n",
              "      <td>1038.520819</td>\n",
              "      <td>1025.869489</td>\n",
              "      <td>2020-01-02 09:00:00</td>\n",
              "    </tr>\n",
              "    <tr>\n",
              "      <th>1</th>\n",
              "      <td>1</td>\n",
              "      <td>1032.246108</td>\n",
              "      <td>1032.417499</td>\n",
              "      <td>1040.101487</td>\n",
              "      <td>1024.562120</td>\n",
              "      <td>2020-01-02 09:05:00</td>\n",
              "    </tr>\n",
              "    <tr>\n",
              "      <th>2</th>\n",
              "      <td>2</td>\n",
              "      <td>1032.417499</td>\n",
              "      <td>1032.375497</td>\n",
              "      <td>1040.023616</td>\n",
              "      <td>1024.769380</td>\n",
              "      <td>2020-01-02 09:10:00</td>\n",
              "    </tr>\n",
              "    <tr>\n",
              "      <th>3</th>\n",
              "      <td>3</td>\n",
              "      <td>1032.375497</td>\n",
              "      <td>1032.398605</td>\n",
              "      <td>1033.532570</td>\n",
              "      <td>1031.241532</td>\n",
              "      <td>2020-01-02 09:15:00</td>\n",
              "    </tr>\n",
              "    <tr>\n",
              "      <th>4</th>\n",
              "      <td>4</td>\n",
              "      <td>1032.398605</td>\n",
              "      <td>1032.482789</td>\n",
              "      <td>1037.506628</td>\n",
              "      <td>1027.374766</td>\n",
              "      <td>2020-01-02 09:20:00</td>\n",
              "    </tr>\n",
              "  </tbody>\n",
              "</table>\n",
              "</div>\n",
              "      <button class=\"colab-df-convert\" onclick=\"convertToInteractive('df-13e78460-7163-4054-8425-f507191b4a42')\"\n",
              "              title=\"Convert this dataframe to an interactive table.\"\n",
              "              style=\"display:none;\">\n",
              "        \n",
              "  <svg xmlns=\"http://www.w3.org/2000/svg\" height=\"24px\"viewBox=\"0 0 24 24\"\n",
              "       width=\"24px\">\n",
              "    <path d=\"M0 0h24v24H0V0z\" fill=\"none\"/>\n",
              "    <path d=\"M18.56 5.44l.94 2.06.94-2.06 2.06-.94-2.06-.94-.94-2.06-.94 2.06-2.06.94zm-11 1L8.5 8.5l.94-2.06 2.06-.94-2.06-.94L8.5 2.5l-.94 2.06-2.06.94zm10 10l.94 2.06.94-2.06 2.06-.94-2.06-.94-.94-2.06-.94 2.06-2.06.94z\"/><path d=\"M17.41 7.96l-1.37-1.37c-.4-.4-.92-.59-1.43-.59-.52 0-1.04.2-1.43.59L10.3 9.45l-7.72 7.72c-.78.78-.78 2.05 0 2.83L4 21.41c.39.39.9.59 1.41.59.51 0 1.02-.2 1.41-.59l7.78-7.78 2.81-2.81c.8-.78.8-2.07 0-2.86zM5.41 20L4 18.59l7.72-7.72 1.47 1.35L5.41 20z\"/>\n",
              "  </svg>\n",
              "      </button>\n",
              "      \n",
              "  <style>\n",
              "    .colab-df-container {\n",
              "      display:flex;\n",
              "      flex-wrap:wrap;\n",
              "      gap: 12px;\n",
              "    }\n",
              "\n",
              "    .colab-df-convert {\n",
              "      background-color: #E8F0FE;\n",
              "      border: none;\n",
              "      border-radius: 50%;\n",
              "      cursor: pointer;\n",
              "      display: none;\n",
              "      fill: #1967D2;\n",
              "      height: 32px;\n",
              "      padding: 0 0 0 0;\n",
              "      width: 32px;\n",
              "    }\n",
              "\n",
              "    .colab-df-convert:hover {\n",
              "      background-color: #E2EBFA;\n",
              "      box-shadow: 0px 1px 2px rgba(60, 64, 67, 0.3), 0px 1px 3px 1px rgba(60, 64, 67, 0.15);\n",
              "      fill: #174EA6;\n",
              "    }\n",
              "\n",
              "    [theme=dark] .colab-df-convert {\n",
              "      background-color: #3B4455;\n",
              "      fill: #D2E3FC;\n",
              "    }\n",
              "\n",
              "    [theme=dark] .colab-df-convert:hover {\n",
              "      background-color: #434B5C;\n",
              "      box-shadow: 0px 1px 3px 1px rgba(0, 0, 0, 0.15);\n",
              "      filter: drop-shadow(0px 1px 2px rgba(0, 0, 0, 0.3));\n",
              "      fill: #FFFFFF;\n",
              "    }\n",
              "  </style>\n",
              "\n",
              "      <script>\n",
              "        const buttonEl =\n",
              "          document.querySelector('#df-13e78460-7163-4054-8425-f507191b4a42 button.colab-df-convert');\n",
              "        buttonEl.style.display =\n",
              "          google.colab.kernel.accessAllowed ? 'block' : 'none';\n",
              "\n",
              "        async function convertToInteractive(key) {\n",
              "          const element = document.querySelector('#df-13e78460-7163-4054-8425-f507191b4a42');\n",
              "          const dataTable =\n",
              "            await google.colab.kernel.invokeFunction('convertToInteractive',\n",
              "                                                     [key], {});\n",
              "          if (!dataTable) return;\n",
              "\n",
              "          const docLinkHtml = 'Like what you see? Visit the ' +\n",
              "            '<a target=\"_blank\" href=https://colab.research.google.com/notebooks/data_table.ipynb>data table notebook</a>'\n",
              "            + ' to learn more about interactive tables.';\n",
              "          element.innerHTML = '';\n",
              "          dataTable['output_type'] = 'display_data';\n",
              "          await google.colab.output.renderOutput(dataTable, element);\n",
              "          const docLink = document.createElement('div');\n",
              "          docLink.innerHTML = docLinkHtml;\n",
              "          element.appendChild(docLink);\n",
              "        }\n",
              "      </script>\n",
              "    </div>\n",
              "  </div>\n",
              "  "
            ]
          },
          "metadata": {},
          "execution_count": 35
        }
      ]
    },
    {
      "cell_type": "code",
      "source": [
        "df2[['close']].plot()\n",
        "plt.title(\"Trends\")\n",
        "plt.show()\n"
      ],
      "metadata": {
        "colab": {
          "base_uri": "https://localhost:8080/",
          "height": 607
        },
        "id": "oN3-02w83BFj",
        "outputId": "29c35edc-7ddd-4da6-b850-520262deb9ae"
      },
      "execution_count": null,
      "outputs": [
        {
          "output_type": "display_data",
          "data": {
            "text/plain": [
              "<Figure size 1440x720 with 1 Axes>"
            ],
            "image/png": "[encoded data removed]"
          },
          "metadata": {
            "needs_background": "light"
          }
        }
      ]
    },
    {
      "cell_type": "code",
      "source": [
        "# Comulative Return\n",
        "dr = df2.cumsum()\n",
        "dr.plot()\n",
        "plt.title('Trends Cumulative Returns')"
      ],
      "metadata": {
        "colab": {
          "base_uri": "https://localhost:8080/",
          "height": 624
        },
        "id": "I2_YaRXb5Ab1",
        "outputId": "cb6db44d-a7ff-4e17-c096-0c672d88b844"
      },
      "execution_count": null,
      "outputs": [
        {
          "output_type": "execute_result",
          "data": {
            "text/plain": [
              "Text(0.5, 1.0, 'Trends Cumulative Returns')"
            ]
          },
          "metadata": {},
          "execution_count": 37
        },
        {
          "output_type": "display_data",
          "data": {
            "text/plain": [
              "<Figure size 1440x720 with 1 Axes>"
            ],
            "image/png": "[encoded data removed]"
          },
          "metadata": {
            "needs_background": "light"
          }
        }
      ]
    },
    {
      "cell_type": "code",
      "source": [
        "plt.figure(figsize=(10,10))\n",
        "lag_plot(df2['open'], lag=5)\n",
        "plt.title('Trends Autocorrelation plot')"
      ],
      "metadata": {
        "colab": {
          "base_uri": "https://localhost:8080/",
          "height": 638
        },
        "id": "2s4kLmI46fyF",
        "outputId": "b679a8f8-21dd-4315-9722-67481ca5f70b"
      },
      "execution_count": null,
      "outputs": [
        {
          "output_type": "execute_result",
          "data": {
            "text/plain": [
              "Text(0.5, 1.0, 'Trends Autocorrelation plot')"
            ]
          },
          "metadata": {},
          "execution_count": 38
        },
        {
          "output_type": "display_data",
          "data": {
            "text/plain": [
              "<Figure size 720x720 with 1 Axes>"
            ],
            "image/png": "[encoded data removed]"
          },
          "metadata": {
            "needs_background": "light"
          }
        }
      ]
    },
    {
      "cell_type": "code",
      "source": [
        "df2['date'][2020]"
      ],
      "metadata": {
        "colab": {
          "base_uri": "https://localhost:8080/",
          "height": 36
        },
        "id": "6h9r-ZCD6q-1",
        "outputId": "f72fe887-014c-454c-d404-e177668bdc25"
      },
      "execution_count": null,
      "outputs": [
        {
          "output_type": "execute_result",
          "data": {
            "text/plain": [
              "'2020-02-11 09:20:00'"
            ],
            "application/vnd.google.colaboratory.intrinsic+json": {
              "type": "string"
            }
          },
          "metadata": {},
          "execution_count": 39
        }
      ]
    },
    {
      "cell_type": "code",
      "source": [
        "train_data, test_data = df2[0:int(len(df2)*0.8)], df2[int(len(df2)*0.8):]\n",
        "plt.figure(figsize=(12,10))\n",
        "plt.title('Prices')\n",
        "plt.xlabel('Dates')\n",
        "plt.ylabel('open')\n",
        "plt.plot(df2['open'], 'blue', label='Training Data')\n",
        "plt.plot(test_data['open'], 'green', label='Testing Data')\n",
        "plt.xticks(np.arange(0,1857, 300), df2['date'][0:1857:300])\n",
        "plt.legend()"
      ],
      "metadata": {
        "colab": {
          "base_uri": "https://localhost:8080/",
          "height": 638
        },
        "id": "zj4ZuQVG75z4",
        "outputId": "4291b84c-2093-4857-91db-1c1ec19c54f0"
      },
      "execution_count": null,
      "outputs": [
        {
          "output_type": "execute_result",
          "data": {
            "text/plain": [
              "<matplotlib.legend.Legend at 0x7f18c8fc8f70>"
            ]
          },
          "metadata": {},
          "execution_count": 48
        },
        {
          "output_type": "display_data",
          "data": {
            "text/plain": [
              "<Figure size 864x720 with 1 Axes>"
            ],
            "image/png": "[encoded data removed]"
          },
          "metadata": {
            "needs_background": "light"
          }
        }
      ]
    },
    {
      "cell_type": "code",
      "source": [
        "data = df1['start'].str.split(n=1, expand=True)"
      ],
      "metadata": {
        "id": "WrIn7jUa99bC"
      },
      "execution_count": null,
      "outputs": []
    },
    {
      "cell_type": "code",
      "source": [
        "data"
      ],
      "metadata": {
        "colab": {
          "base_uri": "https://localhost:8080/",
          "height": 423
        },
        "id": "SQxFaHxg-CCp",
        "outputId": "bafd769b-6fec-449d-a330-b6e39994c999"
      },
      "execution_count": null,
      "outputs": [
        {
          "output_type": "execute_result",
          "data": {
            "text/plain": [
              "             0         1\n",
              "0   2020-01-08  10:50:00\n",
              "1   2020-01-09  10:40:00\n",
              "2   2020-01-15  12:45:00\n",
              "3   2020-01-16  11:00:00\n",
              "4   2020-01-20  12:05:00\n",
              "..         ...       ...\n",
              "85  2021-02-09  12:50:00\n",
              "86  2021-02-10  12:20:00\n",
              "87  2021-02-11  11:00:00\n",
              "88  2021-02-18  11:10:00\n",
              "89  2021-02-24  11:55:00\n",
              "\n",
              "[90 rows x 2 columns]"
            ],
            "text/html": [
              "\n",
              "  <div id=\"df-8c00d593-1ceb-4c61-80ba-2f558d820a5e\">\n",
              "    <div class=\"colab-df-container\">\n",
              "      <div>\n",
              "<style scoped>\n",
              "    .dataframe tbody tr th:only-of-type {\n",
              "        vertical-align: middle;\n",
              "    }\n",
              "\n",
              "    .dataframe tbody tr th {\n",
              "        vertical-align: top;\n",
              "    }\n",
              "\n",
              "    .dataframe thead th {\n",
              "        text-align: right;\n",
              "    }\n",
              "</style>\n",
              "<table border=\"1\" class=\"dataframe\">\n",
              "  <thead>\n",
              "    <tr style=\"text-align: right;\">\n",
              "      <th></th>\n",
              "      <th>0</th>\n",
              "      <th>1</th>\n",
              "    </tr>\n",
              "  </thead>\n",
              "  <tbody>\n",
              "    <tr>\n",
              "      <th>0</th>\n",
              "      <td>2020-01-08</td>\n",
              "      <td>10:50:00</td>\n",
              "    </tr>\n",
              "    <tr>\n",
              "      <th>1</th>\n",
              "      <td>2020-01-09</td>\n",
              "      <td>10:40:00</td>\n",
              "    </tr>\n",
              "    <tr>\n",
              "      <th>2</th>\n",
              "      <td>2020-01-15</td>\n",
              "      <td>12:45:00</td>\n",
              "    </tr>\n",
              "    <tr>\n",
              "      <th>3</th>\n",
              "      <td>2020-01-16</td>\n",
              "      <td>11:00:00</td>\n",
              "    </tr>\n",
              "    <tr>\n",
              "      <th>4</th>\n",
              "      <td>2020-01-20</td>\n",
              "      <td>12:05:00</td>\n",
              "    </tr>\n",
              "    <tr>\n",
              "      <th>...</th>\n",
              "      <td>...</td>\n",
              "      <td>...</td>\n",
              "    </tr>\n",
              "    <tr>\n",
              "      <th>85</th>\n",
              "      <td>2021-02-09</td>\n",
              "      <td>12:50:00</td>\n",
              "    </tr>\n",
              "    <tr>\n",
              "      <th>86</th>\n",
              "      <td>2021-02-10</td>\n",
              "      <td>12:20:00</td>\n",
              "    </tr>\n",
              "    <tr>\n",
              "      <th>87</th>\n",
              "      <td>2021-02-11</td>\n",
              "      <td>11:00:00</td>\n",
              "    </tr>\n",
              "    <tr>\n",
              "      <th>88</th>\n",
              "      <td>2021-02-18</td>\n",
              "      <td>11:10:00</td>\n",
              "    </tr>\n",
              "    <tr>\n",
              "      <th>89</th>\n",
              "      <td>2021-02-24</td>\n",
              "      <td>11:55:00</td>\n",
              "    </tr>\n",
              "  </tbody>\n",
              "</table>\n",
              "<p>90 rows × 2 columns</p>\n",
              "</div>\n",
              "      <button class=\"colab-df-convert\" onclick=\"convertToInteractive('df-8c00d593-1ceb-4c61-80ba-2f558d820a5e')\"\n",
              "              title=\"Convert this dataframe to an interactive table.\"\n",
              "              style=\"display:none;\">\n",
              "        \n",
              "  <svg xmlns=\"http://www.w3.org/2000/svg\" height=\"24px\"viewBox=\"0 0 24 24\"\n",
              "       width=\"24px\">\n",
              "    <path d=\"M0 0h24v24H0V0z\" fill=\"none\"/>\n",
              "    <path d=\"M18.56 5.44l.94 2.06.94-2.06 2.06-.94-2.06-.94-.94-2.06-.94 2.06-2.06.94zm-11 1L8.5 8.5l.94-2.06 2.06-.94-2.06-.94L8.5 2.5l-.94 2.06-2.06.94zm10 10l.94 2.06.94-2.06 2.06-.94-2.06-.94-.94-2.06-.94 2.06-2.06.94z\"/><path d=\"M17.41 7.96l-1.37-1.37c-.4-.4-.92-.59-1.43-.59-.52 0-1.04.2-1.43.59L10.3 9.45l-7.72 7.72c-.78.78-.78 2.05 0 2.83L4 21.41c.39.39.9.59 1.41.59.51 0 1.02-.2 1.41-.59l7.78-7.78 2.81-2.81c.8-.78.8-2.07 0-2.86zM5.41 20L4 18.59l7.72-7.72 1.47 1.35L5.41 20z\"/>\n",
              "  </svg>\n",
              "      </button>\n",
              "      \n",
              "  <style>\n",
              "    .colab-df-container {\n",
              "      display:flex;\n",
              "      flex-wrap:wrap;\n",
              "      gap: 12px;\n",
              "    }\n",
              "\n",
              "    .colab-df-convert {\n",
              "      background-color: #E8F0FE;\n",
              "      border: none;\n",
              "      border-radius: 50%;\n",
              "      cursor: pointer;\n",
              "      display: none;\n",
              "      fill: #1967D2;\n",
              "      height: 32px;\n",
              "      padding: 0 0 0 0;\n",
              "      width: 32px;\n",
              "    }\n",
              "\n",
              "    .colab-df-convert:hover {\n",
              "      background-color: #E2EBFA;\n",
              "      box-shadow: 0px 1px 2px rgba(60, 64, 67, 0.3), 0px 1px 3px 1px rgba(60, 64, 67, 0.15);\n",
              "      fill: #174EA6;\n",
              "    }\n",
              "\n",
              "    [theme=dark] .colab-df-convert {\n",
              "      background-color: #3B4455;\n",
              "      fill: #D2E3FC;\n",
              "    }\n",
              "\n",
              "    [theme=dark] .colab-df-convert:hover {\n",
              "      background-color: #434B5C;\n",
              "      box-shadow: 0px 1px 3px 1px rgba(0, 0, 0, 0.15);\n",
              "      filter: drop-shadow(0px 1px 2px rgba(0, 0, 0, 0.3));\n",
              "      fill: #FFFFFF;\n",
              "    }\n",
              "  </style>\n",
              "\n",
              "      <script>\n",
              "        const buttonEl =\n",
              "          document.querySelector('#df-8c00d593-1ceb-4c61-80ba-2f558d820a5e button.colab-df-convert');\n",
              "        buttonEl.style.display =\n",
              "          google.colab.kernel.accessAllowed ? 'block' : 'none';\n",
              "\n",
              "        async function convertToInteractive(key) {\n",
              "          const element = document.querySelector('#df-8c00d593-1ceb-4c61-80ba-2f558d820a5e');\n",
              "          const dataTable =\n",
              "            await google.colab.kernel.invokeFunction('convertToInteractive',\n",
              "                                                     [key], {});\n",
              "          if (!dataTable) return;\n",
              "\n",
              "          const docLinkHtml = 'Like what you see? Visit the ' +\n",
              "            '<a target=\"_blank\" href=https://colab.research.google.com/notebooks/data_table.ipynb>data table notebook</a>'\n",
              "            + ' to learn more about interactive tables.';\n",
              "          element.innerHTML = '';\n",
              "          dataTable['output_type'] = 'display_data';\n",
              "          await google.colab.output.renderOutput(dataTable, element);\n",
              "          const docLink = document.createElement('div');\n",
              "          docLink.innerHTML = docLinkHtml;\n",
              "          element.appendChild(docLink);\n",
              "        }\n",
              "      </script>\n",
              "    </div>\n",
              "  </div>\n",
              "  "
            ]
          },
          "metadata": {},
          "execution_count": 42
        }
      ]
    },
    {
      "cell_type": "markdown",
      "source": [
        "#Starting"
      ],
      "metadata": {
        "id": "dD5rQAQkJZ9l"
      }
    },
    {
      "cell_type": "code",
      "source": [
        "import pandas as pd\n",
        "import numpy as np\n",
        "import matplotlib.pyplot as plt\n",
        "%matplotlib inline\n",
        "from matplotlib.pylab import rcParams\n",
        "rcParams['figure.figsize']=20,10\n",
        "from keras.models import Sequential\n",
        "from keras.layers import LSTM,Dropout,Dense\n",
        "from sklearn.preprocessing import MinMaxScaler"
      ],
      "metadata": {
        "id": "V-quKBWHG2nG"
      },
      "execution_count": null,
      "outputs": []
    },
    {
      "cell_type": "code",
      "source": [
        "df2"
      ],
      "metadata": {
        "colab": {
          "base_uri": "https://localhost:8080/",
          "height": 423
        },
        "id": "_98ZUBnfz_Zd",
        "outputId": "9be22e37-e83b-46a5-c18c-2bf35c181c4d"
      },
      "execution_count": null,
      "outputs": [
        {
          "output_type": "execute_result",
          "data": {
            "text/plain": [
              "       Unnamed: 0         open        close         high          low  \\\n",
              "0               0  1032.144200  1032.246108  1038.520819  1025.869489   \n",
              "1               1  1032.246108  1032.417499  1040.101487  1024.562120   \n",
              "2               2  1032.417499  1032.375497  1040.023616  1024.769380   \n",
              "3               3  1032.375497  1032.398605  1033.532570  1031.241532   \n",
              "4               4  1032.398605  1032.482789  1037.506628  1027.374766   \n",
              "...           ...          ...          ...          ...          ...   \n",
              "21581          67  1672.852023  1678.324194  1681.038031  1670.138186   \n",
              "21582          68  1678.324194  1677.952490  1687.895346  1668.381338   \n",
              "21583          69  1677.952490  1676.963826  1689.028256  1665.888061   \n",
              "21584          70  1676.963826  1679.059744  1688.330764  1667.692807   \n",
              "21585          71  1679.059744  1685.062412  1695.667444  1668.454713   \n",
              "\n",
              "                      date  \n",
              "0      2020-01-02 09:00:00  \n",
              "1      2020-01-02 09:05:00  \n",
              "2      2020-01-02 09:10:00  \n",
              "3      2020-01-02 09:15:00  \n",
              "4      2020-01-02 09:20:00  \n",
              "...                    ...  \n",
              "21581  2021-02-24 14:35:00  \n",
              "21582  2021-02-24 14:40:00  \n",
              "21583  2021-02-24 14:45:00  \n",
              "21584  2021-02-24 14:50:00  \n",
              "21585  2021-02-24 14:55:00  \n",
              "\n",
              "[21586 rows x 6 columns]"
            ],
            "text/html": [
              "\n",
              "  <div id=\"df-afdbd5c5-67b0-4672-8318-fa7531efff10\">\n",
              "    <div class=\"colab-df-container\">\n",
              "      <div>\n",
              "<style scoped>\n",
              "    .dataframe tbody tr th:only-of-type {\n",
              "        vertical-align: middle;\n",
              "    }\n",
              "\n",
              "    .dataframe tbody tr th {\n",
              "        vertical-align: top;\n",
              "    }\n",
              "\n",
              "    .dataframe thead th {\n",
              "        text-align: right;\n",
              "    }\n",
              "</style>\n",
              "<table border=\"1\" class=\"dataframe\">\n",
              "  <thead>\n",
              "    <tr style=\"text-align: right;\">\n",
              "      <th></th>\n",
              "      <th>Unnamed: 0</th>\n",
              "      <th>open</th>\n",
              "      <th>close</th>\n",
              "      <th>high</th>\n",
              "      <th>low</th>\n",
              "      <th>date</th>\n",
              "    </tr>\n",
              "  </thead>\n",
              "  <tbody>\n",
              "    <tr>\n",
              "      <th>0</th>\n",
              "      <td>0</td>\n",
              "      <td>1032.144200</td>\n",
              "      <td>1032.246108</td>\n",
              "      <td>1038.520819</td>\n",
              "      <td>1025.869489</td>\n",
              "      <td>2020-01-02 09:00:00</td>\n",
              "    </tr>\n",
              "    <tr>\n",
              "      <th>1</th>\n",
              "      <td>1</td>\n",
              "      <td>1032.246108</td>\n",
              "      <td>1032.417499</td>\n",
              "      <td>1040.101487</td>\n",
              "      <td>1024.562120</td>\n",
              "      <td>2020-01-02 09:05:00</td>\n",
              "    </tr>\n",
              "    <tr>\n",
              "      <th>2</th>\n",
              "      <td>2</td>\n",
              "      <td>1032.417499</td>\n",
              "      <td>1032.375497</td>\n",
              "      <td>1040.023616</td>\n",
              "      <td>1024.769380</td>\n",
              "      <td>2020-01-02 09:10:00</td>\n",
              "    </tr>\n",
              "    <tr>\n",
              "      <th>3</th>\n",
              "      <td>3</td>\n",
              "      <td>1032.375497</td>\n",
              "      <td>1032.398605</td>\n",
              "      <td>1033.532570</td>\n",
              "      <td>1031.241532</td>\n",
              "      <td>2020-01-02 09:15:00</td>\n",
              "    </tr>\n",
              "    <tr>\n",
              "      <th>4</th>\n",
              "      <td>4</td>\n",
              "      <td>1032.398605</td>\n",
              "      <td>1032.482789</td>\n",
              "      <td>1037.506628</td>\n",
              "      <td>1027.374766</td>\n",
              "      <td>2020-01-02 09:20:00</td>\n",
              "    </tr>\n",
              "    <tr>\n",
              "      <th>...</th>\n",
              "      <td>...</td>\n",
              "      <td>...</td>\n",
              "      <td>...</td>\n",
              "      <td>...</td>\n",
              "      <td>...</td>\n",
              "      <td>...</td>\n",
              "    </tr>\n",
              "    <tr>\n",
              "      <th>21581</th>\n",
              "      <td>67</td>\n",
              "      <td>1672.852023</td>\n",
              "      <td>1678.324194</td>\n",
              "      <td>1681.038031</td>\n",
              "      <td>1670.138186</td>\n",
              "      <td>2021-02-24 14:35:00</td>\n",
              "    </tr>\n",
              "    <tr>\n",
              "      <th>21582</th>\n",
              "      <td>68</td>\n",
              "      <td>1678.324194</td>\n",
              "      <td>1677.952490</td>\n",
              "      <td>1687.895346</td>\n",
              "      <td>1668.381338</td>\n",
              "      <td>2021-02-24 14:40:00</td>\n",
              "    </tr>\n",
              "    <tr>\n",
              "      <th>21583</th>\n",
              "      <td>69</td>\n",
              "      <td>1677.952490</td>\n",
              "      <td>1676.963826</td>\n",
              "      <td>1689.028256</td>\n",
              "      <td>1665.888061</td>\n",
              "      <td>2021-02-24 14:45:00</td>\n",
              "    </tr>\n",
              "    <tr>\n",
              "      <th>21584</th>\n",
              "      <td>70</td>\n",
              "      <td>1676.963826</td>\n",
              "      <td>1679.059744</td>\n",
              "      <td>1688.330764</td>\n",
              "      <td>1667.692807</td>\n",
              "      <td>2021-02-24 14:50:00</td>\n",
              "    </tr>\n",
              "    <tr>\n",
              "      <th>21585</th>\n",
              "      <td>71</td>\n",
              "      <td>1679.059744</td>\n",
              "      <td>1685.062412</td>\n",
              "      <td>1695.667444</td>\n",
              "      <td>1668.454713</td>\n",
              "      <td>2021-02-24 14:55:00</td>\n",
              "    </tr>\n",
              "  </tbody>\n",
              "</table>\n",
              "<p>21586 rows × 6 columns</p>\n",
              "</div>\n",
              "      <button class=\"colab-df-convert\" onclick=\"convertToInteractive('df-afdbd5c5-67b0-4672-8318-fa7531efff10')\"\n",
              "              title=\"Convert this dataframe to an interactive table.\"\n",
              "              style=\"display:none;\">\n",
              "        \n",
              "  <svg xmlns=\"http://www.w3.org/2000/svg\" height=\"24px\"viewBox=\"0 0 24 24\"\n",
              "       width=\"24px\">\n",
              "    <path d=\"M0 0h24v24H0V0z\" fill=\"none\"/>\n",
              "    <path d=\"M18.56 5.44l.94 2.06.94-2.06 2.06-.94-2.06-.94-.94-2.06-.94 2.06-2.06.94zm-11 1L8.5 8.5l.94-2.06 2.06-.94-2.06-.94L8.5 2.5l-.94 2.06-2.06.94zm10 10l.94 2.06.94-2.06 2.06-.94-2.06-.94-.94-2.06-.94 2.06-2.06.94z\"/><path d=\"M17.41 7.96l-1.37-1.37c-.4-.4-.92-.59-1.43-.59-.52 0-1.04.2-1.43.59L10.3 9.45l-7.72 7.72c-.78.78-.78 2.05 0 2.83L4 21.41c.39.39.9.59 1.41.59.51 0 1.02-.2 1.41-.59l7.78-7.78 2.81-2.81c.8-.78.8-2.07 0-2.86zM5.41 20L4 18.59l7.72-7.72 1.47 1.35L5.41 20z\"/>\n",
              "  </svg>\n",
              "      </button>\n",
              "      \n",
              "  <style>\n",
              "    .colab-df-container {\n",
              "      display:flex;\n",
              "      flex-wrap:wrap;\n",
              "      gap: 12px;\n",
              "    }\n",
              "\n",
              "    .colab-df-convert {\n",
              "      background-color: #E8F0FE;\n",
              "      border: none;\n",
              "      border-radius: 50%;\n",
              "      cursor: pointer;\n",
              "      display: none;\n",
              "      fill: #1967D2;\n",
              "      height: 32px;\n",
              "      padding: 0 0 0 0;\n",
              "      width: 32px;\n",
              "    }\n",
              "\n",
              "    .colab-df-convert:hover {\n",
              "      background-color: #E2EBFA;\n",
              "      box-shadow: 0px 1px 2px rgba(60, 64, 67, 0.3), 0px 1px 3px 1px rgba(60, 64, 67, 0.15);\n",
              "      fill: #174EA6;\n",
              "    }\n",
              "\n",
              "    [theme=dark] .colab-df-convert {\n",
              "      background-color: #3B4455;\n",
              "      fill: #D2E3FC;\n",
              "    }\n",
              "\n",
              "    [theme=dark] .colab-df-convert:hover {\n",
              "      background-color: #434B5C;\n",
              "      box-shadow: 0px 1px 3px 1px rgba(0, 0, 0, 0.15);\n",
              "      filter: drop-shadow(0px 1px 2px rgba(0, 0, 0, 0.3));\n",
              "      fill: #FFFFFF;\n",
              "    }\n",
              "  </style>\n",
              "\n",
              "      <script>\n",
              "        const buttonEl =\n",
              "          document.querySelector('#df-afdbd5c5-67b0-4672-8318-fa7531efff10 button.colab-df-convert');\n",
              "        buttonEl.style.display =\n",
              "          google.colab.kernel.accessAllowed ? 'block' : 'none';\n",
              "\n",
              "        async function convertToInteractive(key) {\n",
              "          const element = document.querySelector('#df-afdbd5c5-67b0-4672-8318-fa7531efff10');\n",
              "          const dataTable =\n",
              "            await google.colab.kernel.invokeFunction('convertToInteractive',\n",
              "                                                     [key], {});\n",
              "          if (!dataTable) return;\n",
              "\n",
              "          const docLinkHtml = 'Like what you see? Visit the ' +\n",
              "            '<a target=\"_blank\" href=https://colab.research.google.com/notebooks/data_table.ipynb>data table notebook</a>'\n",
              "            + ' to learn more about interactive tables.';\n",
              "          element.innerHTML = '';\n",
              "          dataTable['output_type'] = 'display_data';\n",
              "          await google.colab.output.renderOutput(dataTable, element);\n",
              "          const docLink = document.createElement('div');\n",
              "          docLink.innerHTML = docLinkHtml;\n",
              "          element.appendChild(docLink);\n",
              "        }\n",
              "      </script>\n",
              "    </div>\n",
              "  </div>\n",
              "  "
            ]
          },
          "metadata": {},
          "execution_count": 13
        }
      ]
    },
    {
      "cell_type": "code",
      "source": [
        "df2.columns"
      ],
      "metadata": {
        "colab": {
          "base_uri": "https://localhost:8080/"
        },
        "id": "yaHugRLv0BgP",
        "outputId": "4eecf143-f774-4beb-d874-1f7cf7b1c379"
      },
      "execution_count": null,
      "outputs": [
        {
          "output_type": "execute_result",
          "data": {
            "text/plain": [
              "Index(['Unnamed: 0', 'open', 'close', 'high', 'low', 'date'], dtype='object')"
            ]
          },
          "metadata": {},
          "execution_count": 14
        }
      ]
    },
    {
      "cell_type": "code",
      "source": [
        "df2[\"date\"]=pd.to_datetime(df2.date,format=\"%Y-%m-%d\")\n",
        "df2.index=df2['date']\n",
        "plt.figure(figsize=(16,8))\n",
        "plt.plot(df2[\"close\"],label='Close Price history')"
      ],
      "metadata": {
        "colab": {
          "base_uri": "https://localhost:8080/",
          "height": 500
        },
        "id": "oay5TS5G0MAd",
        "outputId": "c34d1a92-5b27-4b77-b366-c042198ef949"
      },
      "execution_count": null,
      "outputs": [
        {
          "output_type": "execute_result",
          "data": {
            "text/plain": [
              "[<matplotlib.lines.Line2D at 0x7f19233c5220>]"
            ]
          },
          "metadata": {},
          "execution_count": 17
        },
        {
          "output_type": "display_data",
          "data": {
            "text/plain": [
              "<Figure size 1152x576 with 1 Axes>"
            ],
            "image/png": "[encoded data removed]"
          },
          "metadata": {
            "needs_background": "light"
          }
        }
      ]
    },
    {
      "cell_type": "code",
      "source": [
        "data=df2.sort_index(ascending=True,axis=0)\n",
        "new_dataset=pd.DataFrame(index=range(0,len(df2)),columns=['date','close'])\n",
        "for i in range(0,len(data)):\n",
        "    new_dataset[\"date\"][i]=data['date'][i]\n",
        "    new_dataset[\"close\"][i]=data[\"close\"][i]"
      ],
      "metadata": {
        "id": "b6_9Tfux0WsA"
      },
      "execution_count": null,
      "outputs": []
    },
    {
      "cell_type": "code",
      "source": [
        "import pandas as pd"
      ],
      "metadata": {
        "id": "fEsssGew03I4"
      },
      "execution_count": null,
      "outputs": []
    },
    {
      "cell_type": "code",
      "source": [
        "stock_data = pd.read_csv(\"/content/drive/MyDrive/ChartPatterns/SampleData.csv\")\n",
        "stock_data.head()"
      ],
      "metadata": {
        "colab": {
          "base_uri": "https://localhost:8080/",
          "height": 206
        },
        "id": "u7PjElIIyBia",
        "outputId": "7b40ecb6-4292-4ca3-b55e-a4924ed2966d"
      },
      "execution_count": null,
      "outputs": [
        {
          "output_type": "execute_result",
          "data": {
            "text/plain": [
              "   Unnamed: 0         open        close         high          low  \\\n",
              "0           0  1032.144200  1032.246108  1038.520819  1025.869489   \n",
              "1           1  1032.246108  1032.417499  1040.101487  1024.562120   \n",
              "2           2  1032.417499  1032.375497  1040.023616  1024.769380   \n",
              "3           3  1032.375497  1032.398605  1033.532570  1031.241532   \n",
              "4           4  1032.398605  1032.482789  1037.506628  1027.374766   \n",
              "\n",
              "                  date  \n",
              "0  2020-01-02 09:00:00  \n",
              "1  2020-01-02 09:05:00  \n",
              "2  2020-01-02 09:10:00  \n",
              "3  2020-01-02 09:15:00  \n",
              "4  2020-01-02 09:20:00  "
            ],
            "text/html": [
              "\n",
              "  <div id=\"df-0da349a2-8ddd-41c8-ab1e-6bcd1d876993\">\n",
              "    <div class=\"colab-df-container\">\n",
              "      <div>\n",
              "<style scoped>\n",
              "    .dataframe tbody tr th:only-of-type {\n",
              "        vertical-align: middle;\n",
              "    }\n",
              "\n",
              "    .dataframe tbody tr th {\n",
              "        vertical-align: top;\n",
              "    }\n",
              "\n",
              "    .dataframe thead th {\n",
              "        text-align: right;\n",
              "    }\n",
              "</style>\n",
              "<table border=\"1\" class=\"dataframe\">\n",
              "  <thead>\n",
              "    <tr style=\"text-align: right;\">\n",
              "      <th></th>\n",
              "      <th>Unnamed: 0</th>\n",
              "      <th>open</th>\n",
              "      <th>close</th>\n",
              "      <th>high</th>\n",
              "      <th>low</th>\n",
              "      <th>date</th>\n",
              "    </tr>\n",
              "  </thead>\n",
              "  <tbody>\n",
              "    <tr>\n",
              "      <th>0</th>\n",
              "      <td>0</td>\n",
              "      <td>1032.144200</td>\n",
              "      <td>1032.246108</td>\n",
              "      <td>1038.520819</td>\n",
              "      <td>1025.869489</td>\n",
              "      <td>2020-01-02 09:00:00</td>\n",
              "    </tr>\n",
              "    <tr>\n",
              "      <th>1</th>\n",
              "      <td>1</td>\n",
              "      <td>1032.246108</td>\n",
              "      <td>1032.417499</td>\n",
              "      <td>1040.101487</td>\n",
              "      <td>1024.562120</td>\n",
              "      <td>2020-01-02 09:05:00</td>\n",
              "    </tr>\n",
              "    <tr>\n",
              "      <th>2</th>\n",
              "      <td>2</td>\n",
              "      <td>1032.417499</td>\n",
              "      <td>1032.375497</td>\n",
              "      <td>1040.023616</td>\n",
              "      <td>1024.769380</td>\n",
              "      <td>2020-01-02 09:10:00</td>\n",
              "    </tr>\n",
              "    <tr>\n",
              "      <th>3</th>\n",
              "      <td>3</td>\n",
              "      <td>1032.375497</td>\n",
              "      <td>1032.398605</td>\n",
              "      <td>1033.532570</td>\n",
              "      <td>1031.241532</td>\n",
              "      <td>2020-01-02 09:15:00</td>\n",
              "    </tr>\n",
              "    <tr>\n",
              "      <th>4</th>\n",
              "      <td>4</td>\n",
              "      <td>1032.398605</td>\n",
              "      <td>1032.482789</td>\n",
              "      <td>1037.506628</td>\n",
              "      <td>1027.374766</td>\n",
              "      <td>2020-01-02 09:20:00</td>\n",
              "    </tr>\n",
              "  </tbody>\n",
              "</table>\n",
              "</div>\n",
              "      <button class=\"colab-df-convert\" onclick=\"convertToInteractive('df-0da349a2-8ddd-41c8-ab1e-6bcd1d876993')\"\n",
              "              title=\"Convert this dataframe to an interactive table.\"\n",
              "              style=\"display:none;\">\n",
              "        \n",
              "  <svg xmlns=\"http://www.w3.org/2000/svg\" height=\"24px\"viewBox=\"0 0 24 24\"\n",
              "       width=\"24px\">\n",
              "    <path d=\"M0 0h24v24H0V0z\" fill=\"none\"/>\n",
              "    <path d=\"M18.56 5.44l.94 2.06.94-2.06 2.06-.94-2.06-.94-.94-2.06-.94 2.06-2.06.94zm-11 1L8.5 8.5l.94-2.06 2.06-.94-2.06-.94L8.5 2.5l-.94 2.06-2.06.94zm10 10l.94 2.06.94-2.06 2.06-.94-2.06-.94-.94-2.06-.94 2.06-2.06.94z\"/><path d=\"M17.41 7.96l-1.37-1.37c-.4-.4-.92-.59-1.43-.59-.52 0-1.04.2-1.43.59L10.3 9.45l-7.72 7.72c-.78.78-.78 2.05 0 2.83L4 21.41c.39.39.9.59 1.41.59.51 0 1.02-.2 1.41-.59l7.78-7.78 2.81-2.81c.8-.78.8-2.07 0-2.86zM5.41 20L4 18.59l7.72-7.72 1.47 1.35L5.41 20z\"/>\n",
              "  </svg>\n",
              "      </button>\n",
              "      \n",
              "  <style>\n",
              "    .colab-df-container {\n",
              "      display:flex;\n",
              "      flex-wrap:wrap;\n",
              "      gap: 12px;\n",
              "    }\n",
              "\n",
              "    .colab-df-convert {\n",
              "      background-color: #E8F0FE;\n",
              "      border: none;\n",
              "      border-radius: 50%;\n",
              "      cursor: pointer;\n",
              "      display: none;\n",
              "      fill: #1967D2;\n",
              "      height: 32px;\n",
              "      padding: 0 0 0 0;\n",
              "      width: 32px;\n",
              "    }\n",
              "\n",
              "    .colab-df-convert:hover {\n",
              "      background-color: #E2EBFA;\n",
              "      box-shadow: 0px 1px 2px rgba(60, 64, 67, 0.3), 0px 1px 3px 1px rgba(60, 64, 67, 0.15);\n",
              "      fill: #174EA6;\n",
              "    }\n",
              "\n",
              "    [theme=dark] .colab-df-convert {\n",
              "      background-color: #3B4455;\n",
              "      fill: #D2E3FC;\n",
              "    }\n",
              "\n",
              "    [theme=dark] .colab-df-convert:hover {\n",
              "      background-color: #434B5C;\n",
              "      box-shadow: 0px 1px 3px 1px rgba(0, 0, 0, 0.15);\n",
              "      filter: drop-shadow(0px 1px 2px rgba(0, 0, 0, 0.3));\n",
              "      fill: #FFFFFF;\n",
              "    }\n",
              "  </style>\n",
              "\n",
              "      <script>\n",
              "        const buttonEl =\n",
              "          document.querySelector('#df-0da349a2-8ddd-41c8-ab1e-6bcd1d876993 button.colab-df-convert');\n",
              "        buttonEl.style.display =\n",
              "          google.colab.kernel.accessAllowed ? 'block' : 'none';\n",
              "\n",
              "        async function convertToInteractive(key) {\n",
              "          const element = document.querySelector('#df-0da349a2-8ddd-41c8-ab1e-6bcd1d876993');\n",
              "          const dataTable =\n",
              "            await google.colab.kernel.invokeFunction('convertToInteractive',\n",
              "                                                     [key], {});\n",
              "          if (!dataTable) return;\n",
              "\n",
              "          const docLinkHtml = 'Like what you see? Visit the ' +\n",
              "            '<a target=\"_blank\" href=https://colab.research.google.com/notebooks/data_table.ipynb>data table notebook</a>'\n",
              "            + ' to learn more about interactive tables.';\n",
              "          element.innerHTML = '';\n",
              "          dataTable['output_type'] = 'display_data';\n",
              "          await google.colab.output.renderOutput(dataTable, element);\n",
              "          const docLink = document.createElement('div');\n",
              "          docLink.innerHTML = docLinkHtml;\n",
              "          element.appendChild(docLink);\n",
              "        }\n",
              "      </script>\n",
              "    </div>\n",
              "  </div>\n",
              "  "
            ]
          },
          "metadata": {},
          "execution_count": 50
        }
      ]
    },
    {
      "cell_type": "code",
      "source": [
        "stock_data['date'].astype(str)"
      ],
      "metadata": {
        "colab": {
          "base_uri": "https://localhost:8080/"
        },
        "id": "8pgU4d8U0pFJ",
        "outputId": "0cab6064-7e15-486a-8c29-2262afb5b02c"
      },
      "execution_count": null,
      "outputs": [
        {
          "output_type": "execute_result",
          "data": {
            "text/plain": [
              "0        2020-01-02 09:00:00\n",
              "1        2020-01-02 09:05:00\n",
              "2        2020-01-02 09:10:00\n",
              "3        2020-01-02 09:15:00\n",
              "4        2020-01-02 09:20:00\n",
              "                ...         \n",
              "21581    2021-02-24 14:35:00\n",
              "21582    2021-02-24 14:40:00\n",
              "21583    2021-02-24 14:45:00\n",
              "21584    2021-02-24 14:50:00\n",
              "21585    2021-02-24 14:55:00\n",
              "Name: date, Length: 21586, dtype: object"
            ]
          },
          "metadata": {},
          "execution_count": 57
        }
      ]
    },
    {
      "cell_type": "code",
      "source": [
        "stock_data['date'].dtype"
      ],
      "metadata": {
        "colab": {
          "base_uri": "https://localhost:8080/"
        },
        "id": "sphnAakQ1cJ0",
        "outputId": "aec940cd-8e42-4b28-c1da-1e3e8f16f754"
      },
      "execution_count": null,
      "outputs": [
        {
          "output_type": "execute_result",
          "data": {
            "text/plain": [
              "dtype('O')"
            ]
          },
          "metadata": {},
          "execution_count": 59
        }
      ]
    },
    {
      "cell_type": "code",
      "source": [
        "from datetime import datetime as dt"
      ],
      "metadata": {
        "id": "KnUV1rw30Nzl"
      },
      "execution_count": null,
      "outputs": []
    },
    {
      "cell_type": "code",
      "source": [
        "df=stock_data['date'] = pd.to_datetime(stock_data['date'], format='%Y-%m-%d %H:%M:%S')"
      ],
      "metadata": {
        "id": "GWxxuKfW5n05"
      },
      "execution_count": null,
      "outputs": []
    },
    {
      "cell_type": "code",
      "source": [
        "df"
      ],
      "metadata": {
        "colab": {
          "base_uri": "https://localhost:8080/"
        },
        "id": "CK59mJKV5nxa",
        "outputId": "a568f956-39ff-485d-b232-c54dd0826d9b"
      },
      "execution_count": null,
      "outputs": [
        {
          "output_type": "execute_result",
          "data": {
            "text/plain": [
              "0       2020-01-02 09:00:00\n",
              "1       2020-01-02 09:05:00\n",
              "2       2020-01-02 09:10:00\n",
              "3       2020-01-02 09:15:00\n",
              "4       2020-01-02 09:20:00\n",
              "                ...        \n",
              "21581   2021-02-24 14:35:00\n",
              "21582   2021-02-24 14:40:00\n",
              "21583   2021-02-24 14:45:00\n",
              "21584   2021-02-24 14:50:00\n",
              "21585   2021-02-24 14:55:00\n",
              "Name: date, Length: 21586, dtype: datetime64[ns]"
            ]
          },
          "metadata": {},
          "execution_count": 66
        }
      ]
    },
    {
      "cell_type": "code",
      "source": [
        "# Splitting the date part from DataFrame\n",
        "stock_data['Date'] = [d.date() for d in stock_data['date']]\n",
        "\n",
        "# Splitting the time part from DataFrame\n",
        "stock_data['Time'] = [d.time() for d in stock_data['date']]"
      ],
      "metadata": {
        "id": "siUkc4ea6dpa"
      },
      "execution_count": null,
      "outputs": []
    },
    {
      "cell_type": "code",
      "source": [
        "print(\"Modified DataFrame:\\n\",stock_data)"
      ],
      "metadata": {
        "colab": {
          "base_uri": "https://localhost:8080/"
        },
        "id": "h4Xk4EHi6wlt",
        "outputId": "e3973286-4675-411d-e519-81d1e62a5f70"
      },
      "execution_count": null,
      "outputs": [
        {
          "output_type": "stream",
          "name": "stdout",
          "text": [
            "Modified DataFrame:\n",
            "        Unnamed: 0         open        close         high          low  \\\n",
            "0               0  1032.144200  1032.246108  1038.520819  1025.869489   \n",
            "1               1  1032.246108  1032.417499  1040.101487  1024.562120   \n",
            "2               2  1032.417499  1032.375497  1040.023616  1024.769380   \n",
            "3               3  1032.375497  1032.398605  1033.532570  1031.241532   \n",
            "4               4  1032.398605  1032.482789  1037.506628  1027.374766   \n",
            "...           ...          ...          ...          ...          ...   \n",
            "21581          67  1672.852023  1678.324194  1681.038031  1670.138186   \n",
            "21582          68  1678.324194  1677.952490  1687.895346  1668.381338   \n",
            "21583          69  1677.952490  1676.963826  1689.028256  1665.888061   \n",
            "21584          70  1676.963826  1679.059744  1688.330764  1667.692807   \n",
            "21585          71  1679.059744  1685.062412  1695.667444  1668.454713   \n",
            "\n",
            "                     date        Date      Time  \n",
            "0     2020-01-02 09:00:00  2020-01-02  09:00:00  \n",
            "1     2020-01-02 09:05:00  2020-01-02  09:05:00  \n",
            "2     2020-01-02 09:10:00  2020-01-02  09:10:00  \n",
            "3     2020-01-02 09:15:00  2020-01-02  09:15:00  \n",
            "4     2020-01-02 09:20:00  2020-01-02  09:20:00  \n",
            "...                   ...         ...       ...  \n",
            "21581 2021-02-24 14:35:00  2021-02-24  14:35:00  \n",
            "21582 2021-02-24 14:40:00  2021-02-24  14:40:00  \n",
            "21583 2021-02-24 14:45:00  2021-02-24  14:45:00  \n",
            "21584 2021-02-24 14:50:00  2021-02-24  14:50:00  \n",
            "21585 2021-02-24 14:55:00  2021-02-24  14:55:00  \n",
            "\n",
            "[21586 rows x 8 columns]\n",
            "Modified DataFrame:\n",
            "        Unnamed: 0         open        close         high          low  \\\n",
            "0               0  1032.144200  1032.246108  1038.520819  1025.869489   \n",
            "1               1  1032.246108  1032.417499  1040.101487  1024.562120   \n",
            "2               2  1032.417499  1032.375497  1040.023616  1024.769380   \n",
            "3               3  1032.375497  1032.398605  1033.532570  1031.241532   \n",
            "4               4  1032.398605  1032.482789  1037.506628  1027.374766   \n",
            "...           ...          ...          ...          ...          ...   \n",
            "21581          67  1672.852023  1678.324194  1681.038031  1670.138186   \n",
            "21582          68  1678.324194  1677.952490  1687.895346  1668.381338   \n",
            "21583          69  1677.952490  1676.963826  1689.028256  1665.888061   \n",
            "21584          70  1676.963826  1679.059744  1688.330764  1667.692807   \n",
            "21585          71  1679.059744  1685.062412  1695.667444  1668.454713   \n",
            "\n",
            "                     date        Date      Time  \n",
            "0     2020-01-02 09:00:00  2020-01-02  09:00:00  \n",
            "1     2020-01-02 09:05:00  2020-01-02  09:05:00  \n",
            "2     2020-01-02 09:10:00  2020-01-02  09:10:00  \n",
            "3     2020-01-02 09:15:00  2020-01-02  09:15:00  \n",
            "4     2020-01-02 09:20:00  2020-01-02  09:20:00  \n",
            "...                   ...         ...       ...  \n",
            "21581 2021-02-24 14:35:00  2021-02-24  14:35:00  \n",
            "21582 2021-02-24 14:40:00  2021-02-24  14:40:00  \n",
            "21583 2021-02-24 14:45:00  2021-02-24  14:45:00  \n",
            "21584 2021-02-24 14:50:00  2021-02-24  14:50:00  \n",
            "21585 2021-02-24 14:55:00  2021-02-24  14:55:00  \n",
            "\n",
            "[21586 rows x 8 columns]\n"
          ]
        }
      ]
    },
    {
      "cell_type": "code",
      "source": [
        "stock_data.head()"
      ],
      "metadata": {
        "colab": {
          "base_uri": "https://localhost:8080/",
          "height": 206
        },
        "id": "oQTyUaum7Nek",
        "outputId": "1de3de42-1bd1-443c-ec70-cf4bd0cef8ff"
      },
      "execution_count": null,
      "outputs": [
        {
          "output_type": "execute_result",
          "data": {
            "text/plain": [
              "   Unnamed: 0         open        close         high          low  \\\n",
              "0           0  1032.144200  1032.246108  1038.520819  1025.869489   \n",
              "1           1  1032.246108  1032.417499  1040.101487  1024.562120   \n",
              "2           2  1032.417499  1032.375497  1040.023616  1024.769380   \n",
              "3           3  1032.375497  1032.398605  1033.532570  1031.241532   \n",
              "4           4  1032.398605  1032.482789  1037.506628  1027.374766   \n",
              "\n",
              "                 date        Date      Time  \n",
              "0 2020-01-02 09:00:00  2020-01-02  09:00:00  \n",
              "1 2020-01-02 09:05:00  2020-01-02  09:05:00  \n",
              "2 2020-01-02 09:10:00  2020-01-02  09:10:00  \n",
              "3 2020-01-02 09:15:00  2020-01-02  09:15:00  \n",
              "4 2020-01-02 09:20:00  2020-01-02  09:20:00  "
            ],
            "text/html": [
              "\n",
              "  <div id=\"df-2f56fe5a-6762-4422-84fe-33e725fabfbc\">\n",
              "    <div class=\"colab-df-container\">\n",
              "      <div>\n",
              "<style scoped>\n",
              "    .dataframe tbody tr th:only-of-type {\n",
              "        vertical-align: middle;\n",
              "    }\n",
              "\n",
              "    .dataframe tbody tr th {\n",
              "        vertical-align: top;\n",
              "    }\n",
              "\n",
              "    .dataframe thead th {\n",
              "        text-align: right;\n",
              "    }\n",
              "</style>\n",
              "<table border=\"1\" class=\"dataframe\">\n",
              "  <thead>\n",
              "    <tr style=\"text-align: right;\">\n",
              "      <th></th>\n",
              "      <th>Unnamed: 0</th>\n",
              "      <th>open</th>\n",
              "      <th>close</th>\n",
              "      <th>high</th>\n",
              "      <th>low</th>\n",
              "      <th>date</th>\n",
              "      <th>Date</th>\n",
              "      <th>Time</th>\n",
              "    </tr>\n",
              "  </thead>\n",
              "  <tbody>\n",
              "    <tr>\n",
              "      <th>0</th>\n",
              "      <td>0</td>\n",
              "      <td>1032.144200</td>\n",
              "      <td>1032.246108</td>\n",
              "      <td>1038.520819</td>\n",
              "      <td>1025.869489</td>\n",
              "      <td>2020-01-02 09:00:00</td>\n",
              "      <td>2020-01-02</td>\n",
              "      <td>09:00:00</td>\n",
              "    </tr>\n",
              "    <tr>\n",
              "      <th>1</th>\n",
              "      <td>1</td>\n",
              "      <td>1032.246108</td>\n",
              "      <td>1032.417499</td>\n",
              "      <td>1040.101487</td>\n",
              "      <td>1024.562120</td>\n",
              "      <td>2020-01-02 09:05:00</td>\n",
              "      <td>2020-01-02</td>\n",
              "      <td>09:05:00</td>\n",
              "    </tr>\n",
              "    <tr>\n",
              "      <th>2</th>\n",
              "      <td>2</td>\n",
              "      <td>1032.417499</td>\n",
              "      <td>1032.375497</td>\n",
              "      <td>1040.023616</td>\n",
              "      <td>1024.769380</td>\n",
              "      <td>2020-01-02 09:10:00</td>\n",
              "      <td>2020-01-02</td>\n",
              "      <td>09:10:00</td>\n",
              "    </tr>\n",
              "    <tr>\n",
              "      <th>3</th>\n",
              "      <td>3</td>\n",
              "      <td>1032.375497</td>\n",
              "      <td>1032.398605</td>\n",
              "      <td>1033.532570</td>\n",
              "      <td>1031.241532</td>\n",
              "      <td>2020-01-02 09:15:00</td>\n",
              "      <td>2020-01-02</td>\n",
              "      <td>09:15:00</td>\n",
              "    </tr>\n",
              "    <tr>\n",
              "      <th>4</th>\n",
              "      <td>4</td>\n",
              "      <td>1032.398605</td>\n",
              "      <td>1032.482789</td>\n",
              "      <td>1037.506628</td>\n",
              "      <td>1027.374766</td>\n",
              "      <td>2020-01-02 09:20:00</td>\n",
              "      <td>2020-01-02</td>\n",
              "      <td>09:20:00</td>\n",
              "    </tr>\n",
              "  </tbody>\n",
              "</table>\n",
              "</div>\n",
              "      <button class=\"colab-df-convert\" onclick=\"convertToInteractive('df-2f56fe5a-6762-4422-84fe-33e725fabfbc')\"\n",
              "              title=\"Convert this dataframe to an interactive table.\"\n",
              "              style=\"display:none;\">\n",
              "        \n",
              "  <svg xmlns=\"http://www.w3.org/2000/svg\" height=\"24px\"viewBox=\"0 0 24 24\"\n",
              "       width=\"24px\">\n",
              "    <path d=\"M0 0h24v24H0V0z\" fill=\"none\"/>\n",
              "    <path d=\"M18.56 5.44l.94 2.06.94-2.06 2.06-.94-2.06-.94-.94-2.06-.94 2.06-2.06.94zm-11 1L8.5 8.5l.94-2.06 2.06-.94-2.06-.94L8.5 2.5l-.94 2.06-2.06.94zm10 10l.94 2.06.94-2.06 2.06-.94-2.06-.94-.94-2.06-.94 2.06-2.06.94z\"/><path d=\"M17.41 7.96l-1.37-1.37c-.4-.4-.92-.59-1.43-.59-.52 0-1.04.2-1.43.59L10.3 9.45l-7.72 7.72c-.78.78-.78 2.05 0 2.83L4 21.41c.39.39.9.59 1.41.59.51 0 1.02-.2 1.41-.59l7.78-7.78 2.81-2.81c.8-.78.8-2.07 0-2.86zM5.41 20L4 18.59l7.72-7.72 1.47 1.35L5.41 20z\"/>\n",
              "  </svg>\n",
              "      </button>\n",
              "      \n",
              "  <style>\n",
              "    .colab-df-container {\n",
              "      display:flex;\n",
              "      flex-wrap:wrap;\n",
              "      gap: 12px;\n",
              "    }\n",
              "\n",
              "    .colab-df-convert {\n",
              "      background-color: #E8F0FE;\n",
              "      border: none;\n",
              "      border-radius: 50%;\n",
              "      cursor: pointer;\n",
              "      display: none;\n",
              "      fill: #1967D2;\n",
              "      height: 32px;\n",
              "      padding: 0 0 0 0;\n",
              "      width: 32px;\n",
              "    }\n",
              "\n",
              "    .colab-df-convert:hover {\n",
              "      background-color: #E2EBFA;\n",
              "      box-shadow: 0px 1px 2px rgba(60, 64, 67, 0.3), 0px 1px 3px 1px rgba(60, 64, 67, 0.15);\n",
              "      fill: #174EA6;\n",
              "    }\n",
              "\n",
              "    [theme=dark] .colab-df-convert {\n",
              "      background-color: #3B4455;\n",
              "      fill: #D2E3FC;\n",
              "    }\n",
              "\n",
              "    [theme=dark] .colab-df-convert:hover {\n",
              "      background-color: #434B5C;\n",
              "      box-shadow: 0px 1px 3px 1px rgba(0, 0, 0, 0.15);\n",
              "      filter: drop-shadow(0px 1px 2px rgba(0, 0, 0, 0.3));\n",
              "      fill: #FFFFFF;\n",
              "    }\n",
              "  </style>\n",
              "\n",
              "      <script>\n",
              "        const buttonEl =\n",
              "          document.querySelector('#df-2f56fe5a-6762-4422-84fe-33e725fabfbc button.colab-df-convert');\n",
              "        buttonEl.style.display =\n",
              "          google.colab.kernel.accessAllowed ? 'block' : 'none';\n",
              "\n",
              "        async function convertToInteractive(key) {\n",
              "          const element = document.querySelector('#df-2f56fe5a-6762-4422-84fe-33e725fabfbc');\n",
              "          const dataTable =\n",
              "            await google.colab.kernel.invokeFunction('convertToInteractive',\n",
              "                                                     [key], {});\n",
              "          if (!dataTable) return;\n",
              "\n",
              "          const docLinkHtml = 'Like what you see? Visit the ' +\n",
              "            '<a target=\"_blank\" href=https://colab.research.google.com/notebooks/data_table.ipynb>data table notebook</a>'\n",
              "            + ' to learn more about interactive tables.';\n",
              "          element.innerHTML = '';\n",
              "          dataTable['output_type'] = 'display_data';\n",
              "          await google.colab.output.renderOutput(dataTable, element);\n",
              "          const docLink = document.createElement('div');\n",
              "          docLink.innerHTML = docLinkHtml;\n",
              "          element.appendChild(docLink);\n",
              "        }\n",
              "      </script>\n",
              "    </div>\n",
              "  </div>\n",
              "  "
            ]
          },
          "metadata": {},
          "execution_count": 72
        }
      ]
    },
    {
      "cell_type": "code",
      "source": [
        "plt.figure(figsize=(16,6))\n",
        "plt.title('Close Price History')\n",
        "plt.plot(stock_data['close'])\n",
        "plt.xlabel('date', fontsize=18)\n",
        "plt.ylabel('Close Price USD ($)', fontsize=18)\n",
        "plt.show()"
      ],
      "metadata": {
        "colab": {
          "base_uri": "https://localhost:8080/",
          "height": 412
        },
        "id": "0_Drjq4O8q8n",
        "outputId": "fbcff9d8-12dc-42c2-dcbb-14ce9ba633d9"
      },
      "execution_count": null,
      "outputs": [
        {
          "output_type": "display_data",
          "data": {
            "text/plain": [
              "<Figure size 1152x432 with 1 Axes>"
            ],
            "image/png": "[encoded data removed]"
          },
          "metadata": {
            "needs_background": "light"
          }
        }
      ]
    },
    {
      "cell_type": "code",
      "source": [
        "# Create a new dataframe with only the 'Close column \n",
        "data = stock_data.filter(['close'])\n",
        "# Convert the dataframe to a numpy array\n",
        "dataset = data.values\n",
        "# Get the number of rows to train the model on\n",
        "training_data_len = int(np.ceil( len(dataset) * .95 ))\n",
        "\n",
        "training_data_len"
      ],
      "metadata": {
        "colab": {
          "base_uri": "https://localhost:8080/"
        },
        "id": "TPZniW66894Y",
        "outputId": "0c02c987-3fbe-4062-eeae-03c9f7c885eb"
      },
      "execution_count": null,
      "outputs": [
        {
          "output_type": "execute_result",
          "data": {
            "text/plain": [
              "20507"
            ]
          },
          "metadata": {},
          "execution_count": 76
        }
      ]
    },
    {
      "cell_type": "code",
      "source": [
        "# Scale the data\n",
        "from sklearn.preprocessing import MinMaxScaler\n",
        "\n",
        "scaler = MinMaxScaler(feature_range=(0,1))\n",
        "scaled_data = scaler.fit_transform(dataset)\n",
        "\n",
        "scaled_data"
      ],
      "metadata": {
        "colab": {
          "base_uri": "https://localhost:8080/"
        },
        "id": "mHUYU7ig9FJb",
        "outputId": "039c7a3e-6283-4478-a667-db8fcb4cfd49"
      },
      "execution_count": null,
      "outputs": [
        {
          "output_type": "execute_result",
          "data": {
            "text/plain": [
              "array([[0.57735549],\n",
              "       [0.57746393],\n",
              "       [0.57743735],\n",
              "       ...,\n",
              "       [0.9852569 ],\n",
              "       [0.98658295],\n",
              "       [0.99038073]])"
            ]
          },
          "metadata": {},
          "execution_count": 77
        }
      ]
    },
    {
      "cell_type": "code",
      "source": [
        "# Create the training data set \n",
        "# Create the scaled training data set\n",
        "train_data = scaled_data[0:int(training_data_len), :]\n",
        "# Split the data into x_train and y_train data sets\n",
        "x_train = []\n",
        "y_train = []\n",
        "\n",
        "for i in range(60, len(train_data)):\n",
        "    x_train.append(train_data[i-60:i, 0])\n",
        "    y_train.append(train_data[i, 0])\n",
        "    if i<= 61:\n",
        "        print(x_train)\n",
        "        print(y_train)\n",
        "        print()\n",
        "        \n",
        "# Convert the x_train and y_train to numpy arrays \n",
        "x_train, y_train = np.array(x_train), np.array(y_train)\n",
        "\n",
        "# Reshape the data\n",
        "x_train = np.reshape(x_train, (x_train.shape[0], x_train.shape[1], 1))\n",
        "# x_train.shape"
      ],
      "metadata": {
        "colab": {
          "base_uri": "https://localhost:8080/"
        },
        "id": "CIPFE8nZ9K8X",
        "outputId": "ee2ada30-b04d-4097-bcb7-2a8abb295a71"
      },
      "execution_count": null,
      "outputs": [
        {
          "output_type": "stream",
          "name": "stdout",
          "text": [
            "[array([0.57735549, 0.57746393, 0.57743735, 0.57745197, 0.57750524,\n",
            "       0.5775773 , 0.57763899, 0.57158275, 0.56688375, 0.56311704,\n",
            "       0.5518998 , 0.55653861, 0.54682104, 0.54834178, 0.55031043,\n",
            "       0.55687083, 0.56260145, 0.55892358, 0.56581075, 0.56952882,\n",
            "       0.5738302 , 0.57260917, 0.57252605, 0.57254087, 0.57224585,\n",
            "       0.57233048, 0.57192817, 0.57178895, 0.57183444, 0.57177928,\n",
            "       0.57152728, 0.57112983, 0.56773223, 0.56698357, 0.56497284,\n",
            "       0.56241233, 0.55672919, 0.55092258, 0.55179392, 0.55811472,\n",
            "       0.55861113, 0.56572945, 0.56621275, 0.5664154 , 0.56862368,\n",
            "       0.57579487, 0.5820637 , 0.58536926, 0.58236118, 0.58680023,\n",
            "       0.58369044, 0.58037633, 0.56854863, 0.57060914, 0.5626381 ,\n",
            "       0.56523981, 0.5636767 , 0.56545381, 0.56718939, 0.56930184])]\n",
            "[0.5732912732253957]\n",
            "\n",
            "[array([0.57735549, 0.57746393, 0.57743735, 0.57745197, 0.57750524,\n",
            "       0.5775773 , 0.57763899, 0.57158275, 0.56688375, 0.56311704,\n",
            "       0.5518998 , 0.55653861, 0.54682104, 0.54834178, 0.55031043,\n",
            "       0.55687083, 0.56260145, 0.55892358, 0.56581075, 0.56952882,\n",
            "       0.5738302 , 0.57260917, 0.57252605, 0.57254087, 0.57224585,\n",
            "       0.57233048, 0.57192817, 0.57178895, 0.57183444, 0.57177928,\n",
            "       0.57152728, 0.57112983, 0.56773223, 0.56698357, 0.56497284,\n",
            "       0.56241233, 0.55672919, 0.55092258, 0.55179392, 0.55811472,\n",
            "       0.55861113, 0.56572945, 0.56621275, 0.5664154 , 0.56862368,\n",
            "       0.57579487, 0.5820637 , 0.58536926, 0.58236118, 0.58680023,\n",
            "       0.58369044, 0.58037633, 0.56854863, 0.57060914, 0.5626381 ,\n",
            "       0.56523981, 0.5636767 , 0.56545381, 0.56718939, 0.56930184]), array([0.57746393, 0.57743735, 0.57745197, 0.57750524, 0.5775773 ,\n",
            "       0.57763899, 0.57158275, 0.56688375, 0.56311704, 0.5518998 ,\n",
            "       0.55653861, 0.54682104, 0.54834178, 0.55031043, 0.55687083,\n",
            "       0.56260145, 0.55892358, 0.56581075, 0.56952882, 0.5738302 ,\n",
            "       0.57260917, 0.57252605, 0.57254087, 0.57224585, 0.57233048,\n",
            "       0.57192817, 0.57178895, 0.57183444, 0.57177928, 0.57152728,\n",
            "       0.57112983, 0.56773223, 0.56698357, 0.56497284, 0.56241233,\n",
            "       0.55672919, 0.55092258, 0.55179392, 0.55811472, 0.55861113,\n",
            "       0.56572945, 0.56621275, 0.5664154 , 0.56862368, 0.57579487,\n",
            "       0.5820637 , 0.58536926, 0.58236118, 0.58680023, 0.58369044,\n",
            "       0.58037633, 0.56854863, 0.57060914, 0.5626381 , 0.56523981,\n",
            "       0.5636767 , 0.56545381, 0.56718939, 0.56930184, 0.57329127])]\n",
            "[0.5732912732253957, 0.5757454532130373]\n",
            "\n"
          ]
        }
      ]
    },
    {
      "cell_type": "code",
      "source": [
        "from keras.models import Sequential\n",
        "from keras.layers import Dense, LSTM\n",
        "\n",
        "# Build the LSTM model\n",
        "model = Sequential()\n",
        "model.add(LSTM(128, return_sequences=True, input_shape= (x_train.shape[1], 1)))\n",
        "model.add(LSTM(64, return_sequences=False))\n",
        "model.add(Dense(25))\n",
        "model.add(Dense(1))\n",
        "\n",
        "# Compile the model\n",
        "model.compile(optimizer='adam', loss='mean_squared_error')\n",
        "\n",
        "# Train the model\n",
        "model.fit(x_train, y_train, batch_size=1, epochs=1)"
      ],
      "metadata": {
        "colab": {
          "base_uri": "https://localhost:8080/"
        },
        "id": "JdFKT37a9PmA",
        "outputId": "ec810d6e-46f3-4553-fc0e-6efee910fd59"
      },
      "execution_count": null,
      "outputs": [
        {
          "output_type": "stream",
          "name": "stdout",
          "text": [
            "20447/20447 [==============================] - 881s 43ms/step - loss: 9.3361e-05\n"
          ]
        },
        {
          "output_type": "execute_result",
          "data": {
            "text/plain": [
              "<keras.callbacks.History at 0x7f18b9fb5a90>"
            ]
          },
          "metadata": {},
          "execution_count": 81
        }
      ]
    },
    {
      "cell_type": "code",
      "source": [
        "test_data = scaled_data[training_data_len - 60: , :]\n",
        "# Create the data sets x_test and y_test\n",
        "x_test = []\n",
        "y_test = dataset[training_data_len:, :]\n",
        "for i in range(60, len(test_data)):\n",
        "    x_test.append(test_data[i-60:i, 0])\n",
        "    \n",
        "# Convert the data to a numpy array\n",
        "x_test = np.array(x_test)\n",
        "\n",
        "# Reshape the data\n",
        "x_test = np.reshape(x_test, (x_test.shape[0], x_test.shape[1], 1 ))\n",
        "\n",
        "# Get the models predicted price values \n",
        "predictions = model.predict(x_test)\n",
        "predictions = scaler.inverse_transform(predictions)\n",
        "\n",
        "# Get the root mean squared error (RMSE)\n",
        "rmse = np.sqrt(np.mean(((predictions - y_test) ** 2)))\n",
        "rmse"
      ],
      "metadata": {
        "colab": {
          "base_uri": "https://localhost:8080/"
        },
        "id": "HaFkU1KvzluU",
        "outputId": "98b46e83-ba47-4c32-a9b6-09fd19ddf25b"
      },
      "execution_count": null,
      "outputs": [
        {
          "output_type": "stream",
          "name": "stdout",
          "text": [
            "34/34 [==============================] - 2s 50ms/step\n"
          ]
        },
        {
          "output_type": "execute_result",
          "data": {
            "text/plain": [
              "16.07623224037059"
            ]
          },
          "metadata": {},
          "execution_count": 83
        }
      ]
    },
    {
      "cell_type": "code",
      "source": [
        "# Plot the data\n",
        "train = data[:training_data_len]\n",
        "valid = data[training_data_len:]\n",
        "valid['Predictions'] = predictions\n",
        "# Visualize the data\n",
        "plt.figure(figsize=(16,6))\n",
        "plt.title('Model')\n",
        "plt.xlabel('Date', fontsize=18)\n",
        "plt.ylabel('Close Price USD ($)', fontsize=18)\n",
        "plt.plot(train['close'])\n",
        "plt.plot(valid[['close', 'Predictions']])\n",
        "plt.legend(['Train', 'Val', 'Predictions'], loc='lower right')\n",
        "plt.show()"
      ],
      "metadata": {
        "colab": {
          "base_uri": "https://localhost:8080/",
          "height": 516
        },
        "id": "XF_8PdXOE_Is",
        "outputId": "f6908a5e-d7f1-4fbe-cf97-285d9883e7ca"
      },
      "execution_count": null,
      "outputs": [
        {
          "output_type": "stream",
          "name": "stderr",
          "text": [
            "<ipython-input-84-b01fdcfed65c>:4: SettingWithCopyWarning: \n",
            "A value is trying to be set on a copy of a slice from a DataFrame.\n",
            "Try using .loc[row_indexer,col_indexer] = value instead\n",
            "\n",
            "See the caveats in the documentation: https://pandas.pydata.org/pandas-docs/stable/user_guide/indexing.html#returning-a-view-versus-a-copy\n",
            "  valid['Predictions'] = predictions\n"
          ]
        },
        {
          "output_type": "display_data",
          "data": {
            "text/plain": [
              "<Figure size 1152x432 with 1 Axes>"
            ],
            "image/png": "[encoded data removed]"
          },
          "metadata": {
            "needs_background": "light"
          }
        }
      ]
    },
    {
      "cell_type": "code",
      "source": [
        "valid"
      ],
      "metadata": {
        "colab": {
          "base_uri": "https://localhost:8080/",
          "height": 423
        },
        "id": "q4w7vna9IeIF",
        "outputId": "f78ab8da-9c08-4c2f-9ce5-c14e49ba1101"
      },
      "execution_count": null,
      "outputs": [
        {
          "output_type": "execute_result",
          "data": {
            "text/plain": [
              "             close  Predictions\n",
              "20507   777.536314   777.343323\n",
              "20508   778.564669   779.332703\n",
              "20509   780.228205   780.643372\n",
              "20510   781.334494   782.289062\n",
              "20511   782.947212   783.242859\n",
              "...            ...          ...\n",
              "21581  1678.324194  1634.348145\n",
              "21582  1677.952490  1636.729614\n",
              "21583  1676.963826  1635.285889\n",
              "21584  1679.059744  1634.279541\n",
              "21585  1685.062412  1637.544678\n",
              "\n",
              "[1079 rows x 2 columns]"
            ],
            "text/html": [
              "\n",
              "  <div id=\"df-83e7424e-0f23-4c93-b7c3-19eaeff02b59\">\n",
              "    <div class=\"colab-df-container\">\n",
              "      <div>\n",
              "<style scoped>\n",
              "    .dataframe tbody tr th:only-of-type {\n",
              "        vertical-align: middle;\n",
              "    }\n",
              "\n",
              "    .dataframe tbody tr th {\n",
              "        vertical-align: top;\n",
              "    }\n",
              "\n",
              "    .dataframe thead th {\n",
              "        text-align: right;\n",
              "    }\n",
              "</style>\n",
              "<table border=\"1\" class=\"dataframe\">\n",
              "  <thead>\n",
              "    <tr style=\"text-align: right;\">\n",
              "      <th></th>\n",
              "      <th>close</th>\n",
              "      <th>Predictions</th>\n",
              "    </tr>\n",
              "  </thead>\n",
              "  <tbody>\n",
              "    <tr>\n",
              "      <th>20507</th>\n",
              "      <td>777.536314</td>\n",
              "      <td>777.343323</td>\n",
              "    </tr>\n",
              "    <tr>\n",
              "      <th>20508</th>\n",
              "      <td>778.564669</td>\n",
              "      <td>779.332703</td>\n",
              "    </tr>\n",
              "    <tr>\n",
              "      <th>20509</th>\n",
              "      <td>780.228205</td>\n",
              "      <td>780.643372</td>\n",
              "    </tr>\n",
              "    <tr>\n",
              "      <th>20510</th>\n",
              "      <td>781.334494</td>\n",
              "      <td>782.289062</td>\n",
              "    </tr>\n",
              "    <tr>\n",
              "      <th>20511</th>\n",
              "      <td>782.947212</td>\n",
              "      <td>783.242859</td>\n",
              "    </tr>\n",
              "    <tr>\n",
              "      <th>...</th>\n",
              "      <td>...</td>\n",
              "      <td>...</td>\n",
              "    </tr>\n",
              "    <tr>\n",
              "      <th>21581</th>\n",
              "      <td>1678.324194</td>\n",
              "      <td>1634.348145</td>\n",
              "    </tr>\n",
              "    <tr>\n",
              "      <th>21582</th>\n",
              "      <td>1677.952490</td>\n",
              "      <td>1636.729614</td>\n",
              "    </tr>\n",
              "    <tr>\n",
              "      <th>21583</th>\n",
              "      <td>1676.963826</td>\n",
              "      <td>1635.285889</td>\n",
              "    </tr>\n",
              "    <tr>\n",
              "      <th>21584</th>\n",
              "      <td>1679.059744</td>\n",
              "      <td>1634.279541</td>\n",
              "    </tr>\n",
              "    <tr>\n",
              "      <th>21585</th>\n",
              "      <td>1685.062412</td>\n",
              "      <td>1637.544678</td>\n",
              "    </tr>\n",
              "  </tbody>\n",
              "</table>\n",
              "<p>1079 rows × 2 columns</p>\n",
              "</div>\n",
              "      <button class=\"colab-df-convert\" onclick=\"convertToInteractive('df-83e7424e-0f23-4c93-b7c3-19eaeff02b59')\"\n",
              "              title=\"Convert this dataframe to an interactive table.\"\n",
              "              style=\"display:none;\">\n",
              "        \n",
              "  <svg xmlns=\"http://www.w3.org/2000/svg\" height=\"24px\"viewBox=\"0 0 24 24\"\n",
              "       width=\"24px\">\n",
              "    <path d=\"M0 0h24v24H0V0z\" fill=\"none\"/>\n",
              "    <path d=\"M18.56 5.44l.94 2.06.94-2.06 2.06-.94-2.06-.94-.94-2.06-.94 2.06-2.06.94zm-11 1L8.5 8.5l.94-2.06 2.06-.94-2.06-.94L8.5 2.5l-.94 2.06-2.06.94zm10 10l.94 2.06.94-2.06 2.06-.94-2.06-.94-.94-2.06-.94 2.06-2.06.94z\"/><path d=\"M17.41 7.96l-1.37-1.37c-.4-.4-.92-.59-1.43-.59-.52 0-1.04.2-1.43.59L10.3 9.45l-7.72 7.72c-.78.78-.78 2.05 0 2.83L4 21.41c.39.39.9.59 1.41.59.51 0 1.02-.2 1.41-.59l7.78-7.78 2.81-2.81c.8-.78.8-2.07 0-2.86zM5.41 20L4 18.59l7.72-7.72 1.47 1.35L5.41 20z\"/>\n",
              "  </svg>\n",
              "      </button>\n",
              "      \n",
              "  <style>\n",
              "    .colab-df-container {\n",
              "      display:flex;\n",
              "      flex-wrap:wrap;\n",
              "      gap: 12px;\n",
              "    }\n",
              "\n",
              "    .colab-df-convert {\n",
              "      background-color: #E8F0FE;\n",
              "      border: none;\n",
              "      border-radius: 50%;\n",
              "      cursor: pointer;\n",
              "      display: none;\n",
              "      fill: #1967D2;\n",
              "      height: 32px;\n",
              "      padding: 0 0 0 0;\n",
              "      width: 32px;\n",
              "    }\n",
              "\n",
              "    .colab-df-convert:hover {\n",
              "      background-color: #E2EBFA;\n",
              "      box-shadow: 0px 1px 2px rgba(60, 64, 67, 0.3), 0px 1px 3px 1px rgba(60, 64, 67, 0.15);\n",
              "      fill: #174EA6;\n",
              "    }\n",
              "\n",
              "    [theme=dark] .colab-df-convert {\n",
              "      background-color: #3B4455;\n",
              "      fill: #D2E3FC;\n",
              "    }\n",
              "\n",
              "    [theme=dark] .colab-df-convert:hover {\n",
              "      background-color: #434B5C;\n",
              "      box-shadow: 0px 1px 3px 1px rgba(0, 0, 0, 0.15);\n",
              "      filter: drop-shadow(0px 1px 2px rgba(0, 0, 0, 0.3));\n",
              "      fill: #FFFFFF;\n",
              "    }\n",
              "  </style>\n",
              "\n",
              "      <script>\n",
              "        const buttonEl =\n",
              "          document.querySelector('#df-83e7424e-0f23-4c93-b7c3-19eaeff02b59 button.colab-df-convert');\n",
              "        buttonEl.style.display =\n",
              "          google.colab.kernel.accessAllowed ? 'block' : 'none';\n",
              "\n",
              "        async function convertToInteractive(key) {\n",
              "          const element = document.querySelector('#df-83e7424e-0f23-4c93-b7c3-19eaeff02b59');\n",
              "          const dataTable =\n",
              "            await google.colab.kernel.invokeFunction('convertToInteractive',\n",
              "                                                     [key], {});\n",
              "          if (!dataTable) return;\n",
              "\n",
              "          const docLinkHtml = 'Like what you see? Visit the ' +\n",
              "            '<a target=\"_blank\" href=https://colab.research.google.com/notebooks/data_table.ipynb>data table notebook</a>'\n",
              "            + ' to learn more about interactive tables.';\n",
              "          element.innerHTML = '';\n",
              "          dataTable['output_type'] = 'display_data';\n",
              "          await google.colab.output.renderOutput(dataTable, element);\n",
              "          const docLink = document.createElement('div');\n",
              "          docLink.innerHTML = docLinkHtml;\n",
              "          element.appendChild(docLink);\n",
              "        }\n",
              "      </script>\n",
              "    </div>\n",
              "  </div>\n",
              "  "
            ]
          },
          "metadata": {},
          "execution_count": 85
        }
      ]
    },
    {
      "cell_type": "code",
      "source": [],
      "metadata": {
        "id": "79g2F7gmIhJO"
      },
      "execution_count": null,
      "outputs": []
    }
  ]
}